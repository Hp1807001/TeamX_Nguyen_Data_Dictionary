{
 "cells": [
  {
   "cell_type": "markdown",
   "id": "9c1871d7",
   "metadata": {},
   "source": [
    "# TeamX Nguyen Data Exploration Report\n",
    "This Jupyter Notebook analyzes the FAA ASIAS Preliminary Accident/Incident dataset.\n",
    "It integrates data engineering, visualization, and advanced data exploration."
   ]
  },
  {
   "cell_type": "markdown",
   "id": "68444c6f",
   "metadata": {},
   "source": [
    "## 1. Introduction\n",
    "The FAA ASIAS Preliminary Accident/Incident dataset provides early safety notifications of aviation events across the United States. This project aims to create a reproducible pipeline that cleans, models, and explores this data to support Power BI dashboards for aviation safety insights.\n",
    "\n",
    "**Data Source:** [FAA ASIAS Preliminary Accident and Incident Reports](https://www.asias.faa.gov/apex/f?p=100:93:::NO)\n",
    "\n",
    "**Objective:** Identify key trends related to manufacturer, weather, and flight phase that contribute to aviation incident risk."
   ]
  },
  {
   "cell_type": "markdown",
   "id": "1c388352",
   "metadata": {},
   "source": [
    "## 2. Overview of Data Engineering Efforts\n",
    "The dataset was processed in multiple stages as outlined in the data dictionary and README:\n",
    "\n",
    "| Stage | Description |\n",
    "|--------|-------------|\n",
    "| Ingest | Loaded raw FAA CSV using pandas for cleaning and type casting |\n",
    "| Stage | Created SQLite schema `asias_prelim` with fact and lookup tables |\n",
    "| Process | Normalized text (manufacturer, model, weather), validated primary keys |\n",
    "| Curate | Exported cleaned results to Parquet for analytics |\n",
    "| Serve | Integrated with Power BI dashboards for trend reporting |\n",
    "\n",
    "**Figure 1.** Data Flow Diagram (see TeamX_Nguyen_Data_Dictionary.pdf)."
   ]
  },
  {
   "cell_type": "code",
   "execution_count": null,
   "id": "3dd370e5",
   "metadata": {},
   "outputs": [],
   "source": [
    "import pandas as pd\n",
    "import matplotlib.pyplot as plt\n",
    "import seaborn as sns\n",
    "from sklearn.decomposition import PCA\n",
    "from sklearn.preprocessing import StandardScaler\n",
    "from sklearn.cluster import KMeans"
   ]
  },
  {
   "cell_type": "code",
   "execution_count": null,
   "id": "ee10af5e",
   "metadata": {},
   "outputs": [],
   "source": [
    "# Load the FAA ASIAS dataset (replace with your actual file path)\n",
    "df = pd.read_csv('FAA_ASIAS_Preliminary.csv')\n",
    "df.head()"
   ]
  },
  {
   "cell_type": "markdown",
   "id": "e8713857",
   "metadata": {},
   "source": [
    "## 3. Data Visualization Improvements\n",
    "Below are refined graphics from the ASIAS curated dataset."
   ]
  },
  {
   "cell_type": "code",
   "execution_count": null,
   "id": "519476cf",
   "metadata": {},
   "outputs": [],
   "source": [
    "plt.figure(figsize=(10,5))\n",
    "sns.countplot(data=df, x='Manufacturer', order=df['Manufacturer'].value_counts().index[:10], palette='Blues_d')\n",
    "plt.xticks(rotation=45, ha='right')\n",
    "plt.title('Top 10 Aircraft Manufacturers by Preliminary Incident Count')\n",
    "plt.xlabel('Manufacturer')\n",
    "plt.ylabel('Number of Incidents')\n",
    "plt.tight_layout()\n",
    "plt.show()"
   ]
  },
  {
   "cell_type": "code",
   "execution_count": null,
   "id": "c3135d19",
   "metadata": {},
   "outputs": [],
   "source": [
    "df['Event_Date'] = pd.to_datetime(df['Event_Date'], errors='coerce')\n",
    "df['Month'] = df['Event_Date'].dt.to_period('M')\n",
    "trend = df.groupby('Month').size()\n",
    "trend.plot(kind='line', marker='o')\n",
    "plt.title('Monthly Trend of FAA Preliminary Accidents')\n",
    "plt.xlabel('Month')\n",
    "plt.ylabel('Incident Count')\n",
    "plt.tight_layout()\n",
    "plt.show()"
   ]
  },
  {
   "cell_type": "markdown",
   "id": "528cf03d",
   "metadata": {},
   "source": [
    "## 4. Data Exploration Techniques\n",
    "This section applies three exploration methods to uncover deeper insights."
   ]
  },
  {
   "cell_type": "markdown",
   "id": "ccb28fcb",
   "metadata": {},
   "source": [
    "### Technique 1: Correlation Analysis\n",
    "**Why chosen:** Measures relationships between numeric fields like fatalities and severity.\n",
    "**Relevance:** Determines how flight conditions relate to the outcome severity.\n",
    "**Results:**"
   ]
  },
  {
   "cell_type": "code",
   "execution_count": null,
   "id": "d4f386c5",
   "metadata": {},
   "outputs": [],
   "source": [
    "num_cols = df.select_dtypes('number')\n",
    "corr = num_cols.corr()\n",
    "plt.figure(figsize=(8,6))\n",
    "sns.heatmap(corr, annot=True, cmap='coolwarm', fmt='.2f')\n",
    "plt.title('Correlation Matrix of Numeric ASIAS Variables')\n",
    "plt.show()"
   ]
  },
  {
   "cell_type": "markdown",
   "id": "8aa9bf27",
   "metadata": {},
   "source": [
    "### Technique 2: Principal Component Analysis (PCA)\n",
    "**Why chosen:** Simplifies complex multi-variable data into fewer dimensions.\n",
    "**Relevance:** Helps identify which variables explain most variance in incident outcomes.\n",
    "**Results:**"
   ]
  },
  {
   "cell_type": "code",
   "execution_count": null,
   "id": "6cc4d577",
   "metadata": {},
   "outputs": [],
   "source": [
    "scaler = StandardScaler()\n",
    "scaled = scaler.fit_transform(num_cols.dropna(axis=1))\n",
    "pca = PCA(n_components=2)\n",
    "components = pca.fit_transform(scaled)\n",
    "plt.figure(figsize=(7,6))\n",
    "plt.scatter(components[:,0], components[:,1], alpha=0.5)\n",
    "plt.title('PCA Projection of FAA ASIAS Data')\n",
    "plt.xlabel(f'PC1 ({pca.explained_variance_ratio_[0]*100:.1f}% Variance)')\n",
    "plt.ylabel(f'PC2 ({pca.explained_variance_ratio_[1]*100:.1f}% Variance)')\n",
    "plt.tight_layout()\n",
    "plt.show()"
   ]
  },
  {
   "cell_type": "markdown",
   "id": "37c33c92",
   "metadata": {},
   "source": [
    "### Technique 3: K-Means Clustering\n",
    "**Why chosen:** Groups similar incidents based on their characteristics.\n",
    "**Relevance:** Helps discover natural groupings, such as clusters of minor vs. severe incidents.\n",
    "**Results:**"
   ]
  },
  {
   "cell_type": "code",
   "execution_count": null,
   "id": "20a04191",
   "metadata": {},
   "outputs": [],
   "source": [
    "kmeans = KMeans(n_clusters=3, random_state=42)\n",
    "kmeans_labels = kmeans.fit_predict(scaled)\n",
    "plt.figure(figsize=(7,6))\n",
    "plt.scatter(components[:,0], components[:,1], c=kmeans_labels, cmap='viridis', alpha=0.7)\n",
    "plt.title('K-Means Clustering of FAA Preliminary Incidents')\n",
    "plt.xlabel('PC1')\n",
    "plt.ylabel('PC2')\n",
    "plt.tight_layout()\n",
    "plt.show()"
   ]
  },
  {
   "cell_type": "markdown",
   "id": "9ddeddb8",
   "metadata": {},
   "source": [
    "## 5. Conclusion\n",
    "The analyses revealed strong patterns between manufacturer types, flight phases, and injury severity.\n",
    "Correlation analysis showed critical links between numeric fields; PCA distilled main factors;\n",
    "clustering uncovered distinct safety risk profiles. Together, these methods improve understanding of\n",
    "preliminary incident data and will inform dashboard visualizations and predictive modeling."
   ]
  },
  {
   "cell_type": "markdown",
   "id": "509744e0",
   "metadata": {},
   "source": [
    "## 6. Reproducibility\n",
    "- Notebook dependencies: `pandas`, `matplotlib`, `seaborn`, `scikit-learn`.\n",
    "- All cells are executable using the FAA curated dataset.\n",
    "- Save the notebook as:\n",
    "```\n",
    "/Data_Exploration/TeamX_Nguyen_Data_Exploration.ipynb\n",
    "```\n",
    "- Commit to GitHub master branch and upload rendered HTML/PDF to Canvas."
   ]
  }
 ],
 "metadata": {},
 "nbformat": 4,
 "nbformat_minor": 5
}
